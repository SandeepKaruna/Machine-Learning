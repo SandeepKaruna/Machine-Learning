{
 "cells": [
  {
   "cell_type": "code",
   "execution_count": 1,
   "metadata": {},
   "outputs": [],
   "source": [
    "import pickle"
   ]
  },
  {
   "cell_type": "code",
   "execution_count": 2,
   "metadata": {},
   "outputs": [
    {
     "name": "stdout",
     "output_type": "stream",
     "text": [
      "Enter your R&D:1234\n",
      "Enter your Admin Spend:3456\n",
      "Enter your Mark Spend:2345\n",
      "Enter your State_F:0\n",
      "Enter your State_N:1\n"
     ]
    }
   ],
   "source": [
    "loaded_model=pickle.load(open(\"StartupData_MultiLinearModel.sav\",'rb'))\n",
    "a=int(input(\"Enter your R&D:\"))\n",
    "b=int(input(\"Enter your Admin Spend:\"))\n",
    "c=int(input(\"Enter your Mark Spend:\"))\n",
    "d=int(input(\"Enter your State_F:\"))\n",
    "e=int(input(\"Enter your State_N:\"))\n",
    "result=loaded_model.predict([[a,b,c,d,e]])"
   ]
  },
  {
   "cell_type": "code",
   "execution_count": 3,
   "metadata": {},
   "outputs": [
    {
     "data": {
      "text/plain": [
       "array([[43861.65735517]])"
      ]
     },
     "execution_count": 3,
     "metadata": {},
     "output_type": "execute_result"
    }
   ],
   "source": [
    "result"
   ]
  },
  {
   "cell_type": "code",
   "execution_count": null,
   "metadata": {},
   "outputs": [],
   "source": []
  }
 ],
 "metadata": {
  "kernelspec": {
   "display_name": "Python 3",
   "language": "python",
   "name": "python3"
  },
  "language_info": {
   "codemirror_mode": {
    "name": "ipython",
    "version": 3
   },
   "file_extension": ".py",
   "mimetype": "text/x-python",
   "name": "python",
   "nbconvert_exporter": "python",
   "pygments_lexer": "ipython3",
   "version": "3.7.4"
  }
 },
 "nbformat": 4,
 "nbformat_minor": 2
}
